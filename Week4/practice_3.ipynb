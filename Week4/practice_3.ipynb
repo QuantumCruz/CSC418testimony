{
 "cells": [
  {
   "cell_type": "code",
   "execution_count": 3,
   "metadata": {},
   "outputs": [],
   "source": [
    "import cv2\n",
    "import numpy as np"
   ]
  },
  {
   "cell_type": "code",
   "execution_count": 4,
   "metadata": {},
   "outputs": [],
   "source": [
    "# Load the image\n",
    "image = cv2.imread('img/3.jpg', cv2.IMREAD_GRAYSCALE)"
   ]
  },
  {
   "cell_type": "code",
   "execution_count": 5,
   "metadata": {},
   "outputs": [],
   "source": [
    "# Perform Gaussian Blur\n",
    "image = cv2.GaussianBlur(image, (5, 5), 0)\n",
    "\n",
    "# Define Robert kernels\n",
    "kernel_x = np.array([[1, 0], [0, -1]])\n",
    "\n",
    "kernel_y = np.array([[0, 1], [-1, 0]])"
   ]
  },
  {
   "cell_type": "code",
   "execution_count": 6,
   "metadata": {},
   "outputs": [],
   "source": [
    "# Apply Robert edge detection\n",
    "robert_x = cv2.filter2D(image, -1, kernel_x)\n",
    "robert_y = cv2.filter2D(image, -1, kernel_y)\n",
    "\n",
    "# Combine the gradient images\n",
    "robert_combined = np.sqrt(np.square(robert_x) + np.square(robert_y))\n"
   ]
  },
  {
   "cell_type": "code",
   "execution_count": 7,
   "metadata": {},
   "outputs": [],
   "source": [
    "# Display the original image and the Robert edges\n",
    "cv2.imshow('Original', image)\n",
    "cv2.imshow('Robert Edges', np.uint8(robert_combined))\n",
    "\n",
    "# Wait for a key press and close all windows\n",
    "cv2.waitKey(0)\n",
    "cv2.destroyAllWindows()"
   ]
  }
 ],
 "metadata": {
  "kernelspec": {
   "display_name": "Python 3",
   "language": "python",
   "name": "python3"
  },
  "language_info": {
   "codemirror_mode": {
    "name": "ipython",
    "version": 3
   },
   "file_extension": ".py",
   "mimetype": "text/x-python",
   "name": "python",
   "nbconvert_exporter": "python",
   "pygments_lexer": "ipython3",
   "version": "3.12.2"
  }
 },
 "nbformat": 4,
 "nbformat_minor": 2
}
