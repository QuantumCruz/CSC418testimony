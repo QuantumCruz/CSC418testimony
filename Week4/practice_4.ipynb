{
 "cells": [
  {
   "cell_type": "code",
   "execution_count": 2,
   "metadata": {},
   "outputs": [],
   "source": [
    "import cv2"
   ]
  },
  {
   "cell_type": "code",
   "execution_count": 3,
   "metadata": {},
   "outputs": [],
   "source": [
    "image = cv2.imread('img/1.jpg', cv2.IMREAD_GRAYSCALE)\n",
    "\n",
    "# Resize image\n",
    "image = cv2.resize(image, (400, 400))\n",
    "\n",
    "# Perform Gaussian Blur\n",
    "# image = cv2.GaussianBlur(image, (5, 5), 0)\n",
    "\n",
    "# Apply Laplacian edge detection\n",
    "laplacian = cv2.Laplacian(image, cv2.CV_64F)"
   ]
  },
  {
   "cell_type": "code",
   "execution_count": 4,
   "metadata": {},
   "outputs": [],
   "source": [
    "# Convert the output to an 8-bit image\n",
    "laplacian = cv2.convertScaleAbs(laplacian)"
   ]
  },
  {
   "cell_type": "code",
   "execution_count": 5,
   "metadata": {},
   "outputs": [],
   "source": [
    "# Display the original image and the Laplacian edges\n",
    "cv2.imshow('Original', image)\n",
    "cv2.imshow('Laplacian Edges', laplacian)\n",
    "\n",
    "# Wait for a key press and close all windows\n",
    "cv2.waitKey(0)\n",
    "cv2.destroyAllWindows()"
   ]
  }
 ],
 "metadata": {
  "kernelspec": {
   "display_name": "Python 3",
   "language": "python",
   "name": "python3"
  },
  "language_info": {
   "codemirror_mode": {
    "name": "ipython",
    "version": 3
   },
   "file_extension": ".py",
   "mimetype": "text/x-python",
   "name": "python",
   "nbconvert_exporter": "python",
   "pygments_lexer": "ipython3",
   "version": "3.12.2"
  }
 },
 "nbformat": 4,
 "nbformat_minor": 2
}
