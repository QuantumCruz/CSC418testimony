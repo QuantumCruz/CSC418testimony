{
 "cells": [
  {
   "cell_type": "code",
   "execution_count": 1,
   "metadata": {},
   "outputs": [],
   "source": [
    "import cv2\n",
    "import numpy as np"
   ]
  },
  {
   "cell_type": "code",
   "execution_count": 6,
   "metadata": {},
   "outputs": [],
   "source": [
    "# Load the image\n",
    "image = cv2.imread('img/2.jpg', cv2.IMREAD_GRAYSCALE)"
   ]
  },
  {
   "cell_type": "code",
   "execution_count": 7,
   "metadata": {},
   "outputs": [],
   "source": [
    "# Resize image\n",
    "image = cv2.resize(image, (500, 400))\n",
    "\n",
    "# Define Prewitt kernels\n",
    "kernel_x = np.array([[-1, -1, -1], [0, 0, 0], [1, 1, 1]])\n",
    "\n",
    "kernel_y = np.array([[-1, 0, 1], [-1, 0, 1], [-1, 0, 1]])"
   ]
  },
  {
   "cell_type": "code",
   "execution_count": 8,
   "metadata": {},
   "outputs": [],
   "source": [
    "# Apply Prewitt edge detection\n",
    "prewitt_x = cv2.filter2D(image, -1, kernel_x)\n",
    "prewitt_y = cv2.filter2D(image, -1, kernel_y)\n",
    "\n",
    "# Compute magnitude of gradients manually\n",
    "prewitt_combined = np.sqrt(np.square(prewitt_x) + np.square(prewitt_y))\n"
   ]
  },
  {
   "cell_type": "code",
   "execution_count": 9,
   "metadata": {},
   "outputs": [],
   "source": [
    "# Display the original image and the Prewitt edges\n",
    "cv2.imshow('Original', image)\n",
    "cv2.imshow('Prewitt Edges', np.uint8(prewitt_combined))\n",
    "\n",
    "# Wait for a key press and close all windows\n",
    "cv2.waitKey(0)\n",
    "cv2.destroyAllWindows()"
   ]
  }
 ],
 "metadata": {
  "kernelspec": {
   "display_name": "Python 3",
   "language": "python",
   "name": "python3"
  },
  "language_info": {
   "codemirror_mode": {
    "name": "ipython",
    "version": 3
   },
   "file_extension": ".py",
   "mimetype": "text/x-python",
   "name": "python",
   "nbconvert_exporter": "python",
   "pygments_lexer": "ipython3",
   "version": "3.12.2"
  }
 },
 "nbformat": 4,
 "nbformat_minor": 2
}
