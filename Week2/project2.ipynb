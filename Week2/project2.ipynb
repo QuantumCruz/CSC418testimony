{
 "cells": [
  {
   "cell_type": "code",
   "execution_count": 5,
   "metadata": {},
   "outputs": [],
   "source": [
    "import cv2\n",
    "import matplotlib.pyplot as plt\n",
    "import numpy as np"
   ]
  },
  {
   "cell_type": "code",
   "execution_count": 6,
   "metadata": {},
   "outputs": [],
   "source": [
    "def rescale(image):\n",
    "    decision = int(input(\"How do you want to re-size:\\n1. Using specific resolution\\n2. Re-scale length and width\"))\n",
    "    \n",
    "    if decision == 1:\n",
    "        length = int(input(\"Input length: \"))\n",
    "        width = int(input(\"Input width: \"))\n",
    "        image1 = cv2.resize(image, (length,width))\n",
    "        cv2.imshow(f\"Image with custom resolution of {length} by {width}\", image1)\n",
    "        if cv2.waitKey(0) & 0xff == 27:\n",
    "            cv2.destroyAllWindows()\n",
    "    if decision == 2:\n",
    "        length = float(input(\"Rescale length by how may times: \"))\n",
    "        width = float(input(\"Rescale width by how may times: \"))\n",
    "        scaled_image = cv2.resize(image, None, fx=length, fy=width)\n",
    "        cv2.imshow(\"Rescaled image\", scaled_image)\n",
    "        if cv2.waitKey(0) & 0xff == 27:\n",
    "            cv2.destroyAllWindows()\n",
    "            \n",
    "\n",
    "def b_c(image):\n",
    "    brightness = float(input(\"Enter value for brightness: \"))\n",
    "    contrast = float(input(\"Enter value for contrast: \"))\n",
    "    image2 = cv2.addWeighted(image, contrast, np.zeros(image.shape, image.dtype),0,brightness)\n",
    "    \n",
    "    cv2.imshow(\"Custom brightness and Contrast applied\", image2)\n",
    "    if cv2.waitKey(0) & 0xff == 27:\n",
    "        cv2.destroyAllWindows()\n",
    "        \n",
    "\n",
    "def sharpen(image):\n",
    "    kernel = np.array([[0,-1,0], [-1,5,-1], [0,-1,0]])\n",
    "    sharpened_image = cv2.filter2D(image, -1, kernel)\n",
    "    \n",
    "    cv2.imshow(\"Sharpened image\", sharpened_image)\n",
    "    if cv2.waitKey(0) & 0xff == 27:\n",
    "        cv2.destroyAllWindows()\n",
    "        \n",
    "\n",
    "def blur(image):\n",
    "    blur = int(input(\"Enter the degree of blur: \"))\n",
    "    filtered_image = cv2.medianBlur(image,blur)\n",
    "    \n",
    "    cv2.imshow(\"Custom blur applied\", filtered_image)\n",
    "    if cv2.waitKey(0) & 0xff == 27:\n",
    "        cv2.destroyAllWindows()\n",
    "        \n",
    "\n",
    "def inverse(image):\n",
    "    inverse_image = 255 - image\n",
    "    \n",
    "    cv2.imshow(\"Inverse image\", inverse_image)\n",
    "    if cv2.waitKey(0) & 0xff == 27:\n",
    "        cv2.destroyAllWindows()"
   ]
  },
  {
   "cell_type": "code",
   "execution_count": null,
   "metadata": {},
   "outputs": [
    {
     "name": "stdout",
     "output_type": "stream",
     "text": [
      "Welcome, KingAkin\n"
     ]
    }
   ],
   "source": [
    "#Login\n",
    "username = input(\"Enter username: \")\n",
    "matno = input(\"Enter Matriculation number: \")\n",
    "print(\"Welcome,\", username)\n",
    "\n",
    "while True:\n",
    "    #PATH to image\n",
    "    path = input(\"Enter the path to the file: \")\n",
    "    image = cv2.imread(path)\n",
    "    \n",
    "    functionality = int(input(\"Enter what function you want to apply\\n1. Re-size\\n2. Adjust Brightness an Contrast\\n3. Sharpen image\\n4. Blur Image\\n5. Invert Colours\\n\"))\n",
    "    \n",
    "    if functionality == 1:\n",
    "        rescale(image)\n",
    "        break\n",
    "    elif functionality == 2:\n",
    "        b_c(image)\n",
    "        break\n",
    "    elif functionality == 3:\n",
    "        sharpen(image)\n",
    "        break\n",
    "    elif functionality == 4:\n",
    "        blur(image)\n",
    "        break\n",
    "    elif functionality == 5:\n",
    "        inverse(image)\n",
    "        break\n",
    "    "
   ]
  }
 ],
 "metadata": {
  "kernelspec": {
   "display_name": "Python 3",
   "language": "python",
   "name": "python3"
  },
  "language_info": {
   "codemirror_mode": {
    "name": "ipython",
    "version": 3
   },
   "file_extension": ".py",
   "mimetype": "text/x-python",
   "name": "python",
   "nbconvert_exporter": "python",
   "pygments_lexer": "ipython3",
   "version": "3.12.2"
  }
 },
 "nbformat": 4,
 "nbformat_minor": 2
}
