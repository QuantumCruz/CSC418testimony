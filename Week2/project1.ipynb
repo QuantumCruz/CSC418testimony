{
 "cells": [
  {
   "cell_type": "code",
   "execution_count": 10,
   "metadata": {},
   "outputs": [],
   "source": [
    "import cv2"
   ]
  },
  {
   "cell_type": "code",
   "execution_count": 11,
   "metadata": {},
   "outputs": [
    {
     "name": "stdout",
     "output_type": "stream",
     "text": [
      "Welcome Prof. ENASE\n"
     ]
    }
   ],
   "source": [
    "while True:\n",
    "    name = input(\"Enter your UMC username i.e. First Name: \")\n",
    "    password = input(\"Enter your UMC password i.e. sum of number of alphabets of surname: \")\n",
    "    \n",
    "    if(name.lower() == 'enase'):\n",
    "        image = cv2.imread('img/enase.jpg')\n",
    "        cv2.imshow(\"Your face\", image)\n",
    "        if cv2.waitKey(0) & 0xff == 27:\n",
    "            cv2.destroyAllWindows()\n",
    "        print(\"Welcome Prof.\", name.upper())\n",
    "        break\n",
    "    elif(name.lower() == 'peter'):\n",
    "        image = cv2.imread('img/peter.jpg')\n",
    "        cv2.imshow(\"Your face\", image)\n",
    "        if cv2.waitKey(0) & 0xff == 27:\n",
    "            cv2.destroyAllWindows()\n",
    "        print(\"Welcome Prof.\", name.upper())\n",
    "        break\n",
    "    elif(name.lower() == 'ikechukwu'):\n",
    "        image = cv2.imread('img/ikechukwu.png')\n",
    "        cv2.imshow(\"Your face\", image)\n",
    "        if cv2.waitKey(0) & 0xff == 27:\n",
    "            cv2.destroyAllWindows()\n",
    "        print(\"Welcome Prof.\", name.upper())\n",
    "        break\n",
    "    elif(name.lower() == 'chris'):\n",
    "        image = cv2.imread('img/chris.jpg')\n",
    "        cv2.imshow(\"Your face\", image)\n",
    "        if cv2.waitKey(0) & 0xff == 27:\n",
    "            cv2.destroyAllWindows()\n",
    "        print(\"Welcome Prof.\", name.upper())\n",
    "        break\n",
    "    elif(name.lower() == 'adaora'):\n",
    "        image = cv2.imread('img/adaora.jpg')\n",
    "        cv2.imshow(\"Your face\", image)\n",
    "        if cv2.waitKey(0) & 0xff == 27:\n",
    "            cv2.destroyAllWindows()\n",
    "        print(\"Welcome Prof.\", name.upper())\n",
    "        break\n",
    "    else:\n",
    "        print(\"Member does not exist\")"
   ]
  }
 ],
 "metadata": {
  "kernelspec": {
   "display_name": "Python 3",
   "language": "python",
   "name": "python3"
  },
  "language_info": {
   "codemirror_mode": {
    "name": "ipython",
    "version": 3
   },
   "file_extension": ".py",
   "mimetype": "text/x-python",
   "name": "python",
   "nbconvert_exporter": "python",
   "pygments_lexer": "ipython3",
   "version": "3.12.2"
  }
 },
 "nbformat": 4,
 "nbformat_minor": 2
}
