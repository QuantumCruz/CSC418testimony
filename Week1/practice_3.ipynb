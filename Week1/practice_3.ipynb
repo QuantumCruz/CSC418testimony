{
 "cells": [
  {
   "cell_type": "code",
   "execution_count": null,
   "metadata": {},
   "outputs": [],
   "source": [
    "# importing cv2\n",
    "import cv2\n",
    "\n",
    "# importing os module\n",
    "import os\n"
   ]
  },
  {
   "cell_type": "code",
   "execution_count": null,
   "metadata": {},
   "outputs": [],
   "source": [
    "# Image path\n",
    "image_path = r'C:\\\\Users\\\\testy\\\\Documents\\\\comp_vision_repo\\\\CSC418testimony\\\\Week1\\\\img\\\\elegance.jpg'\n",
    "\n",
    "# Image directory\n",
    "directory = r'C:\\\\Users\\\\testy\\\\Documents\\\\comp_vision_repo\\\\CSC418testimony\\\\Week1\\\\img'"
   ]
  },
  {
   "cell_type": "code",
   "execution_count": null,
   "metadata": {},
   "outputs": [],
   "source": [
    "# Using cv2.imread() method to read the image\n",
    "img = cv2.imread(image_path, 0)\n",
    "\n",
    "# Change the current directory to specified directory\n",
    "os.chdir(directory)\n",
    "\n",
    "# List files and directories\n",
    "print(\"Before saving image:\")\n",
    "print(os.listdir(directory))\n",
    "\n",
    "# Filename\n",
    "filename = 'grayImage.jpg'"
   ]
  },
  {
   "cell_type": "code",
   "execution_count": null,
   "metadata": {},
   "outputs": [
    {
     "name": "stdout",
     "output_type": "stream",
     "text": [
      "Before saving image:\n",
      "['elegance.jpg', 'jare.jpg', 'rgb.jpg']\n",
      "After saving image:\n",
      "['elegance.jpg', 'grayImage.jpg', 'jare.jpg', 'rgb.jpg']\n",
      "Successfully saved\n"
     ]
    }
   ],
   "source": [
    "# Using cv2.imwrite() method save the image\n",
    "cv2.imwrite(filename, img)\n",
    "\n",
    "# List files and directories\n",
    "print(\"After saving image:\")\n",
    "print(os.listdir(directory))\n",
    "\n",
    "print('Successfully saved')\n"
   ]
  }
 ],
 "metadata": {
  "kernelspec": {
   "display_name": "Python 3",
   "language": "python",
   "name": "python3"
  },
  "language_info": {
   "codemirror_mode": {
    "name": "ipython",
    "version": 3
   },
   "file_extension": ".py",
   "mimetype": "text/x-python",
   "name": "python",
   "nbconvert_exporter": "python",
   "pygments_lexer": "ipython3",
   "version": "3.12.2"
  }
 },
 "nbformat": 4,
 "nbformat_minor": 2
}
